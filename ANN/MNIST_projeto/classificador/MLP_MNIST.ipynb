{
 "cells": [
  {
   "cell_type": "markdown",
   "metadata": {},
   "source": [
    "Bibliotecas utilizadas:\n",
    "    \n",
    "    Numpy: Manual de instalação para diferentes sistemas operacionais --> https://www.edureka.co/blog/install-numpy\n",
    "    Pandas: Manual de instalação para diferentes sistemas operacionais -->https://pandas.pydata.org/pandas-docs/stable/getting_started/install.html\n",
    "    Scikit-learn: Manual de instalação para diferentes sistemas operacionais --> https://scikit-learn.org/stable/install.html\n",
    "    mnist: Manual de instalação da biblioteca --> https://pypi.org/project/python-mnist/ \n",
    "    Matplotlib(opcional): Manual de instalação para diferentes sistemas operacionais --> https://matplotlib.org/3.1.1/users/installing.html\n",
    "    \n",
    "Download do dataset: http://yann.lecun.com/exdb/mnist/"
   ]
  },
  {
   "cell_type": "code",
   "execution_count": 3,
   "metadata": {},
   "outputs": [],
   "source": [
    "from mnist import MNIST #parser para utilizar os arquivos do dataset MNIST\n",
    "import numpy as np\n",
    "\n",
    "from sklearn.neural_network import MLPClassifier\n"
   ]
  },
  {
   "cell_type": "code",
   "execution_count": 4,
   "metadata": {},
   "outputs": [],
   "source": [
    "#realiza uma analise mais detalhada das classificações\n",
    "def analise_predicao(y,y_pred,verbose = False):\n",
    "# verbose = true : imprime o digito correto e o digito predito     \n",
    "    errados = 0\n",
    "    for correto,predito in zip(y,y_pred):\n",
    "        if correto != predito:\n",
    "            if verbose:\n",
    "                print(\"Digito correto:\", correto,\"Digito predito:\", predito)\n",
    "            errados += 1\n",
    "    print(\"Número de entradas classificadas corretamente:\",len(y) - errados)        \n",
    "    print(\"Número de entradas classificadas incorretamente:\",errados)"
   ]
  },
  {
   "cell_type": "markdown",
   "metadata": {},
   "source": [
    "## Importando o dataset e separando entre dados para treino e teste"
   ]
  },
  {
   "cell_type": "code",
   "execution_count": 5,
   "metadata": {},
   "outputs": [],
   "source": [
    "#carregando o dataset\n",
    "mnist = MNIST('../dataset/MNIST')\n",
    "x_train, y_train = mnist.load_training() #60000 samples\n",
    "x_test, y_test = mnist.load_testing()"
   ]
  },
  {
   "cell_type": "code",
   "execution_count": 6,
   "metadata": {},
   "outputs": [],
   "source": [
    "#melhorando o formato dos dados\n",
    "x_train = np.asarray(x_train).astype(np.float32)\n",
    "y_train = np.asarray(y_train).astype(np.int32)\n",
    "x_test = np.asarray(x_test).astype(np.float32)\n",
    "y_test = np.asarray(y_test).astype(np.int32)"
   ]
  },
  {
   "cell_type": "markdown",
   "metadata": {},
   "source": [
    "## Aplicação do classificador Perceptron Multicamada da biblioteca Scikit-Learn"
   ]
  },
  {
   "cell_type": "code",
   "execution_count": 7,
   "metadata": {},
   "outputs": [],
   "source": [
    "mlp = MLPClassifier(hidden_layer_sizes=(64,128,64,10))"
   ]
  },
  {
   "cell_type": "code",
   "execution_count": 8,
   "metadata": {},
   "outputs": [
    {
     "data": {
      "text/plain": [
       "MLPClassifier(activation='relu', alpha=0.0001, batch_size='auto', beta_1=0.9,\n",
       "       beta_2=0.999, early_stopping=False, epsilon=1e-08,\n",
       "       hidden_layer_sizes=(64, 128, 64, 10), learning_rate='constant',\n",
       "       learning_rate_init=0.001, max_iter=200, momentum=0.9,\n",
       "       n_iter_no_change=10, nesterovs_momentum=True, power_t=0.5,\n",
       "       random_state=None, shuffle=True, solver='adam', tol=0.0001,\n",
       "       validation_fraction=0.1, verbose=False, warm_start=False)"
      ]
     },
     "execution_count": 8,
     "metadata": {},
     "output_type": "execute_result"
    }
   ],
   "source": [
    "mlp.fit(x_train,y_train)"
   ]
  },
  {
   "cell_type": "code",
   "execution_count": 9,
   "metadata": {},
   "outputs": [],
   "source": [
    "train_predictions = mlp.predict(x_train)\n",
    "test_predictions = mlp.predict(x_test)"
   ]
  },
  {
   "cell_type": "code",
   "execution_count": 11,
   "metadata": {},
   "outputs": [
    {
     "data": {
      "text/plain": [
       "0.9714"
      ]
     },
     "execution_count": 11,
     "metadata": {},
     "output_type": "execute_result"
    }
   ],
   "source": [
    "mlp.score(x_test,y_test)"
   ]
  },
  {
   "cell_type": "code",
   "execution_count": 12,
   "metadata": {},
   "outputs": [
    {
     "name": "stdout",
     "output_type": "stream",
     "text": [
      "Número de entradas classificadas corretamente: 9714\n",
      "Número de entradas classificadas incorretamente: 286\n"
     ]
    }
   ],
   "source": [
    "analise_predicao(y_test,test_predictions)"
   ]
  },
  {
   "cell_type": "code",
   "execution_count": null,
   "metadata": {},
   "outputs": [],
   "source": []
  }
 ],
 "metadata": {
  "kernelspec": {
   "display_name": "Python 3",
   "language": "python",
   "name": "python3"
  },
  "language_info": {
   "codemirror_mode": {
    "name": "ipython",
    "version": 3
   },
   "file_extension": ".py",
   "mimetype": "text/x-python",
   "name": "python",
   "nbconvert_exporter": "python",
   "pygments_lexer": "ipython3",
   "version": "3.7.3"
  }
 },
 "nbformat": 4,
 "nbformat_minor": 2
}
