{
 "cells": [
  {
   "cell_type": "code",
   "execution_count": 2,
   "metadata": {},
   "outputs": [],
   "source": [
    "import numpy as np"
   ]
  },
  {
   "cell_type": "code",
   "execution_count": 3,
   "metadata": {},
   "outputs": [],
   "source": [
    "class Perceptron(object):\n",
    "    \n",
    "    def __init__(self, lr=0.001, epochs=1):\n",
    "        self.W = None\n",
    "        self.epochs = epochs\n",
    "        self.lr = lr\n",
    "    \n",
    "    def initialize(self,inputSize):\n",
    "        \n",
    "        self.W = np.zeros(inputSize+1)#+1 for bias\n",
    "    \n",
    "    #funcao de ativação\n",
    "    def activation_fn(self, x):\n",
    "        # 1 = 'Iris-setosa'\n",
    "        # 0 = 'Iris-versicolor'\n",
    "        return 1 if x>=0 else 0\n",
    "    \n",
    "    \n",
    "    def predict_aux(self, x):\n",
    "        z = self.W[1:].T.dot(x[1:]) + self.W[0]\n",
    "        a = self.activation_fn(z)\n",
    "        return a\n",
    "    \n",
    "    def predict(self,X):\n",
    "        preditos = []\n",
    "        for i in range(len(X)):\n",
    "            x = np.insert(X[i], 0, 1)# insert bias as 1\n",
    "            preditos.append(self.predict_aux(x))\n",
    "        return preditos\n",
    "             \n",
    "    \n",
    "                 \n",
    "    def fit(self, X, t):\n",
    "        \n",
    "        self.initialize(X.shape[1])\n",
    "        for _ in range(self.epochs):\n",
    "            erroAux = 0\n",
    "            for i in range(len(X)):\n",
    "                x = np.insert(X[i], 0, 1)#insert bias as 1\n",
    "                y = self.predict_aux(x)\n",
    "                e = t[i] - y\n",
    "                self.W[1:] = self.W[1:] + self.lr * e * x[1:]\n",
    "                self.W[0] = self.W[0] + self.lr * e\n",
    "\n",
    "        #print(self.W)#printa os pesos"
   ]
  },
  {
   "cell_type": "markdown",
   "metadata": {},
   "source": [
    "# Simulating XOR logic gate with multiple Perceptrons\n",
    "\n",
    "We can simulate an XOR logic gate using perceptrons that simulate logic gates: AND, OR, NOT\n",
    "\n",
    "An equation that defines an XOR operation is: XOR (x1, x2) = AND (NOT (AND (x1, x2), OR (x1, x2))\n",
    "\n"
   ]
  },
  {
   "cell_type": "code",
   "execution_count": 4,
   "metadata": {},
   "outputs": [],
   "source": [
    "#NOT gate\n",
    "\n",
    "def NOT_perceptron(X,y):\n",
    "    NOT_percept = Perceptron(lr=0.05,epochs=5)\n",
    "    NOT_percept.fit(X,y)\n",
    "    return NOT_percept\n",
    "\n",
    "X_NOT = np.array([[0],[1]])\n",
    "y_NOT = np.array([1,0])\n",
    "\n",
    "not_perceptron = NOT_perceptron(X_NOT,y_NOT)"
   ]
  },
  {
   "cell_type": "code",
   "execution_count": 5,
   "metadata": {},
   "outputs": [],
   "source": [
    "#AND gate\n",
    "def AND_perceptron(X,y):\n",
    "    AND_percept = Perceptron(lr=0.05,epochs=6)\n",
    "    AND_percept.fit(X,y)\n",
    "    return AND_percept\n",
    "    \n",
    "X_AND = np.array([[1,1],[1,0],[0,1],[0,0]])\n",
    "y_AND = np.array([1,0,0,0])\n",
    "\n",
    "and_perceptron = AND_perceptron(X_AND,y_AND)"
   ]
  },
  {
   "cell_type": "code",
   "execution_count": 6,
   "metadata": {
    "scrolled": true
   },
   "outputs": [],
   "source": [
    "#OR gate\n",
    "def OR_perceptron(X,y):\n",
    "    OR_percept = Perceptron(lr=0.05,epochs=5)\n",
    "    OR_percept.fit(X,y)\n",
    "    return OR_percept\n",
    "    \n",
    "X_OR = np.array([[1,1],[1,0],[0,1],[0,0]])\n",
    "y_OR = np.array([1,1,1,0])\n",
    "\n",
    "or_perceptron = OR_perceptron(X_OR,y_OR)"
   ]
  },
  {
   "cell_type": "code",
   "execution_count": 7,
   "metadata": {},
   "outputs": [],
   "source": [
    "#XOR entry\n",
    "X = np.array([[1,1],[1,0],[0,1],[0,0]])\n",
    "y = np.array([0,1,1,0])"
   ]
  },
  {
   "cell_type": "code",
   "execution_count": 8,
   "metadata": {},
   "outputs": [],
   "source": [
    "#XOR gate\n",
    "\n",
    "def XOR_perceptron(X,y):\n",
    "    and_gate = and_perceptron.predict(X)\n",
    "    not_gate = not_perceptron.predict(and_gate) #NOT(AND(x1,x2))\n",
    "    or_gate = or_perceptron.predict(X) #OR(x1,x2)\n",
    "    XOR_x = np.array([i for i in zip(not_gate,or_gate)]) #fixing input format\n",
    "    XOR_valores = and_perceptron.predict(XOR_x) #AND(NOT(AND(x1,x2),OR(x1,x2))\n",
    "    return XOR_valores #XOR predicted values"
   ]
  },
  {
   "cell_type": "code",
   "execution_count": 9,
   "metadata": {},
   "outputs": [
    {
     "data": {
      "text/plain": [
       "[0, 1, 1, 0]"
      ]
     },
     "execution_count": 9,
     "metadata": {},
     "output_type": "execute_result"
    }
   ],
   "source": [
    "XOR_perceptron(X,y)"
   ]
  }
 ],
 "metadata": {
  "kernelspec": {
   "display_name": "Python 3",
   "language": "python",
   "name": "python3"
  },
  "language_info": {
   "codemirror_mode": {
    "name": "ipython",
    "version": 3
   },
   "file_extension": ".py",
   "mimetype": "text/x-python",
   "name": "python",
   "nbconvert_exporter": "python",
   "pygments_lexer": "ipython3",
   "version": "3.7.3"
  }
 },
 "nbformat": 4,
 "nbformat_minor": 2
}
