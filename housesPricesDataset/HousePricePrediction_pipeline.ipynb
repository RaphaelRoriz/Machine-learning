{
 "cells": [
  {
   "cell_type": "markdown",
   "metadata": {},
   "source": [
    "In this notebook i'll use the sklearn pipeline for the ML project development.\n",
    "\n",
    "The data i'm using was cleaned using this notebook : https://github.com/RaphaelRoriz/Machine_learning/blob/master/housesPricesDataset/House%20Prices%20regressions.ipynb\n"
   ]
  },
  {
   "cell_type": "code",
   "execution_count": 1,
   "metadata": {},
   "outputs": [],
   "source": [
    "import pandas as pd\n",
    "import numpy as np\n",
    "import matplotlib.pyplot as plt\n",
    "import seaborn as sns\n",
    "from sklearn.pipeline import Pipeline\n",
    "from sklearn.decomposition import PCA\n",
    "from sklearn.model_selection import GridSearchCV\n",
    "from sklearn.metrics import mean_squared_error, make_scorer\n",
    "from sklearn.model_selection import cross_validate\n",
    "from sklearn.model_selection import KFold\n",
    "from sklearn.ensemble import RandomForestRegressor\n",
    "from sklearn.model_selection import train_test_split\n",
    "%matplotlib inline"
   ]
  },
  {
   "cell_type": "markdown",
   "metadata": {},
   "source": [
    "# Importing data"
   ]
  },
  {
   "cell_type": "code",
   "execution_count": 2,
   "metadata": {},
   "outputs": [],
   "source": [
    "houses_train = pd.read_pickle('houses_train_cleaned.pkl')\n",
    "houses_test = pd.read_pickle('houses_test_cleaned.pkl')\n",
    "houses_train.drop('Id',axis =1,inplace =True )"
   ]
  },
  {
   "cell_type": "markdown",
   "metadata": {},
   "source": [
    "# Feature selection"
   ]
  },
  {
   "cell_type": "markdown",
   "metadata": {},
   "source": [
    "I'll select the features based on the correlation with the target "
   ]
  },
  {
   "cell_type": "code",
   "execution_count": 3,
   "metadata": {},
   "outputs": [],
   "source": [
    "houses_train_corr = houses_train.corr()"
   ]
  },
  {
   "cell_type": "code",
   "execution_count": 4,
   "metadata": {},
   "outputs": [],
   "source": [
    "salePrice_corr = houses_train_corr['SalePrice']"
   ]
  },
  {
   "cell_type": "code",
   "execution_count": 6,
   "metadata": {},
   "outputs": [],
   "source": [
    "relevant_salePrice_corr = []\n",
    "\n",
    "#here well searching for relevation correlations , ill consider a correlation relevant if its >= 0.5 and <= -0.5\n",
    "for (columnName, columnData) in houses_train_corr['SalePrice'].iteritems():\n",
    "    if columnData >= 0.5 or columnData <= -0.5: #0.5 is the corr that i got the best results\n",
    "        relevant_salePrice_corr.append((columnName,columnData))"
   ]
  },
  {
   "cell_type": "code",
   "execution_count": 7,
   "metadata": {},
   "outputs": [
    {
     "data": {
      "text/plain": [
       "[('OverallQual', 0.7909816005838047),\n",
       " ('YearBuilt', 0.5228973328794967),\n",
       " ('YearRemodAdd', 0.5071009671113867),\n",
       " ('TotalBsmtSF', 0.6135805515591944),\n",
       " ('1stFlrSF', 0.6058521846919166),\n",
       " ('GrLivArea', 0.7086244776126511),\n",
       " ('FullBath', 0.5606637627484452),\n",
       " ('TotRmsAbvGrd', 0.5337231555820238),\n",
       " ('GarageCars', 0.640409197258349),\n",
       " ('GarageArea', 0.6234314389183598),\n",
       " ('SalePrice', 1.0),\n",
       " ('TotalConstructedSF', 0.809741322904717),\n",
       " ('TotalBath', 0.6317310679319897),\n",
       " ('ExterQual_TA', -0.589043523409763),\n",
       " ('KitchenQual_TA', -0.5192978536548846)]"
      ]
     },
     "execution_count": 7,
     "metadata": {},
     "output_type": "execute_result"
    }
   ],
   "source": [
    "relevant_salePrice_corr"
   ]
  },
  {
   "cell_type": "code",
   "execution_count": 8,
   "metadata": {},
   "outputs": [
    {
     "data": {
      "text/plain": [
       "0.8824754142814603"
      ]
     },
     "execution_count": 8,
     "metadata": {},
     "output_type": "execute_result"
    }
   ],
   "source": [
    "#We'll not use the GarageArea column because it may be too much correlated to GarageCars\n",
    "houses_train_corr['GarageArea']['GarageCars']"
   ]
  },
  {
   "cell_type": "code",
   "execution_count": 11,
   "metadata": {},
   "outputs": [],
   "source": [
    "relevant_columns_names_train = []\n",
    "for i in relevant_salePrice_corr:\n",
    "    relevant_columns_names_train.append(i[0])"
   ]
  },
  {
   "cell_type": "code",
   "execution_count": 12,
   "metadata": {},
   "outputs": [],
   "source": [
    "relevant_columns_names_train.remove('GarageArea')"
   ]
  },
  {
   "cell_type": "code",
   "execution_count": 13,
   "metadata": {},
   "outputs": [],
   "source": [
    "houses_train  = houses_train[relevant_columns_names_train]"
   ]
  },
  {
   "cell_type": "markdown",
   "metadata": {},
   "source": [
    "# Test dataset for Kaggle submissions"
   ]
  },
  {
   "cell_type": "code",
   "execution_count": 14,
   "metadata": {},
   "outputs": [],
   "source": [
    "relevant_columns_names_test = relevant_columns_names_train.remove('SalePrice')\n",
    "houses_test = houses_test[relevant_columns_names_train]"
   ]
  },
  {
   "cell_type": "markdown",
   "metadata": {},
   "source": [
    "# Train and test sets split"
   ]
  },
  {
   "cell_type": "code",
   "execution_count": null,
   "metadata": {},
   "outputs": [],
   "source": [
    "y = houses_train['SalePrice']\n",
    "X = houses_train.drop(['SalePrice'],axis = 1)"
   ]
  },
  {
   "cell_type": "code",
   "execution_count": null,
   "metadata": {},
   "outputs": [],
   "source": [
    "X_train, X_test, y_train, y_test = train_test_split(X, y, test_size=0.3, random_state=101)"
   ]
  }
 ],
 "metadata": {
  "kernelspec": {
   "display_name": "Python 3",
   "language": "python",
   "name": "python3"
  },
  "language_info": {
   "codemirror_mode": {
    "name": "ipython",
    "version": 3
   },
   "file_extension": ".py",
   "mimetype": "text/x-python",
   "name": "python",
   "nbconvert_exporter": "python",
   "pygments_lexer": "ipython3",
   "version": "3.7.3"
  }
 },
 "nbformat": 4,
 "nbformat_minor": 2
}
